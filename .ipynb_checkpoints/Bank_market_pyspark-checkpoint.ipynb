{
 "cells": [
  {
   "cell_type": "code",
   "execution_count": 1,
   "id": "0d9b34ee",
   "metadata": {},
   "outputs": [],
   "source": [
    "from pyspark.sql import SparkSession\n",
    "from pyspark.sql import *\n",
    "from pyspark.ml import *\n",
    "from pyspark.sql.functions import when, col\n",
    "\n",
    "# Create a SparkSession\n",
    "spark = SparkSession.builder \\\n",
    "    .appName(\"Bank_market\") \\\n",
    "    .getOrCreate()"
   ]
  },
  {
   "cell_type": "code",
   "execution_count": 2,
   "id": "6223dece",
   "metadata": {},
   "outputs": [],
   "source": [
    "path = 'D:\\\\Onedrive\\\\Desktop\\\\bank_marketing\\\\full.csv'"
   ]
  },
  {
   "cell_type": "code",
   "execution_count": 3,
   "id": "a61454f1",
   "metadata": {},
   "outputs": [],
   "source": [
    "df = spark.read.option('header', True).option('delimiter', ';').csv(path)"
   ]
  },
  {
   "cell_type": "code",
   "execution_count": 4,
   "id": "0f7321f3",
   "metadata": {},
   "outputs": [
    {
     "name": "stdout",
     "output_type": "stream",
     "text": [
      "+---+---------+-------+-----------+-------+-------+----+---------+-----+---------+--------+--------+-----+--------+-----------+----------+------------+-----------+---------+----------+---+\n",
      "|age|      job|marital|  education|default|housing|loan|  contact|month|dayOfWeek|duration|campaign|pdays|previous|   poutcome|empVarRate|consPriceIdx|consConfIdx|euribor3m|nrEmployed|  y|\n",
      "+---+---------+-------+-----------+-------+-------+----+---------+-----+---------+--------+--------+-----+--------+-----------+----------+------------+-----------+---------+----------+---+\n",
      "| 56|housemaid|married|   basic.4y|     no|     no|  no|telephone|  may|      mon|     261|       1|  999|       0|nonexistent|       1.1|      93.994|      -36.4|    4.857|      5191| no|\n",
      "| 57| services|married|high.school|unknown|     no|  no|telephone|  may|      mon|     149|       1|  999|       0|nonexistent|       1.1|      93.994|      -36.4|    4.857|      5191| no|\n",
      "| 37| services|married|high.school|     no|    yes|  no|telephone|  may|      mon|     226|       1|  999|       0|nonexistent|       1.1|      93.994|      -36.4|    4.857|      5191| no|\n",
      "| 40|   admin.|married|   basic.6y|     no|     no|  no|telephone|  may|      mon|     151|       1|  999|       0|nonexistent|       1.1|      93.994|      -36.4|    4.857|      5191| no|\n",
      "| 56| services|married|high.school|     no|     no| yes|telephone|  may|      mon|     307|       1|  999|       0|nonexistent|       1.1|      93.994|      -36.4|    4.857|      5191| no|\n",
      "+---+---------+-------+-----------+-------+-------+----+---------+-----+---------+--------+--------+-----+--------+-----------+----------+------------+-----------+---------+----------+---+\n",
      "only showing top 5 rows\n",
      "\n"
     ]
    }
   ],
   "source": [
    "df.show(5)"
   ]
  },
  {
   "cell_type": "code",
   "execution_count": 5,
   "id": "8711b420",
   "metadata": {},
   "outputs": [],
   "source": [
    "df = df.withColumn(\"label\", \n",
    "                   when(col(\"default\") == 'yes', 1)\n",
    "                   .when(col(\"default\") == 'no', 0)\n",
    "                   .otherwise(0))"
   ]
  },
  {
   "cell_type": "code",
   "execution_count": 6,
   "id": "56dc6b7b",
   "metadata": {},
   "outputs": [
    {
     "name": "stdout",
     "output_type": "stream",
     "text": [
      "+-----+\n",
      "|label|\n",
      "+-----+\n",
      "|    0|\n",
      "|    0|\n",
      "|    0|\n",
      "|    0|\n",
      "|    0|\n",
      "|    0|\n",
      "|    0|\n",
      "|    0|\n",
      "|    0|\n",
      "|    0|\n",
      "|    0|\n",
      "|    0|\n",
      "|    0|\n",
      "|    0|\n",
      "|    0|\n",
      "|    0|\n",
      "|    0|\n",
      "|    0|\n",
      "|    0|\n",
      "|    0|\n",
      "+-----+\n",
      "only showing top 20 rows\n",
      "\n"
     ]
    }
   ],
   "source": [
    "df.select('label').show()"
   ]
  },
  {
   "cell_type": "code",
   "execution_count": 7,
   "id": "03b921a1",
   "metadata": {},
   "outputs": [],
   "source": [
    "df = spark.read.options(header=True, delimiter=';', inferSchema=True).csv(path)"
   ]
  },
  {
   "cell_type": "code",
   "execution_count": 8,
   "id": "3aa6471d",
   "metadata": {},
   "outputs": [
    {
     "name": "stdout",
     "output_type": "stream",
     "text": [
      "root\n",
      " |-- age: integer (nullable = true)\n",
      " |-- job: string (nullable = true)\n",
      " |-- marital: string (nullable = true)\n",
      " |-- education: string (nullable = true)\n",
      " |-- default: string (nullable = true)\n",
      " |-- housing: string (nullable = true)\n",
      " |-- loan: string (nullable = true)\n",
      " |-- contact: string (nullable = true)\n",
      " |-- month: string (nullable = true)\n",
      " |-- dayOfWeek: string (nullable = true)\n",
      " |-- duration: integer (nullable = true)\n",
      " |-- campaign: integer (nullable = true)\n",
      " |-- pdays: integer (nullable = true)\n",
      " |-- previous: integer (nullable = true)\n",
      " |-- poutcome: string (nullable = true)\n",
      " |-- empVarRate: double (nullable = true)\n",
      " |-- consPriceIdx: double (nullable = true)\n",
      " |-- consConfIdx: double (nullable = true)\n",
      " |-- euribor3m: double (nullable = true)\n",
      " |-- nrEmployed: double (nullable = true)\n",
      " |-- y: string (nullable = true)\n",
      "\n"
     ]
    }
   ],
   "source": [
    "df.printSchema()"
   ]
  },
  {
   "cell_type": "code",
   "execution_count": 9,
   "id": "4fc428a2",
   "metadata": {},
   "outputs": [
    {
     "name": "stdout",
     "output_type": "stream",
     "text": [
      "+-------------------+-----+\n",
      "|          education|count|\n",
      "+-------------------+-----+\n",
      "|  university.degree|12168|\n",
      "|        high.school| 9515|\n",
      "|           basic.9y| 6045|\n",
      "|professional.course| 5243|\n",
      "|           basic.4y| 4176|\n",
      "|           basic.6y| 2292|\n",
      "|            unknown| 1731|\n",
      "|         illiterate|   18|\n",
      "+-------------------+-----+\n",
      "\n"
     ]
    }
   ],
   "source": [
    "df.groupBy('education').count().sort('count', ascending=False).show()"
   ]
  },
  {
   "cell_type": "code",
   "execution_count": 48,
   "id": "3af8571d",
   "metadata": {},
   "outputs": [
    {
     "name": "stdout",
     "output_type": "stream",
     "text": [
      "+---+-----+\n",
      "|age|count|\n",
      "+---+-----+\n",
      "| 98|    2|\n",
      "| 95|    1|\n",
      "| 94|    1|\n",
      "| 92|    4|\n",
      "| 91|    2|\n",
      "| 89|    2|\n",
      "| 88|   22|\n",
      "| 87|    1|\n",
      "| 86|    8|\n",
      "| 85|   15|\n",
      "| 84|    7|\n",
      "| 83|   17|\n",
      "| 82|   17|\n",
      "| 81|   20|\n",
      "| 80|   31|\n",
      "| 79|   14|\n",
      "| 78|   27|\n",
      "| 77|   20|\n",
      "| 76|   34|\n",
      "| 75|   24|\n",
      "+---+-----+\n",
      "only showing top 20 rows\n",
      "\n"
     ]
    }
   ],
   "source": [
    "df.groupBy('age').count().sort('age', ascending=False).show()"
   ]
  },
  {
   "cell_type": "code",
   "execution_count": 49,
   "id": "e024c82e",
   "metadata": {},
   "outputs": [],
   "source": [
    "ef = df.select('age', 'education', 'duration', 'euribor3m')"
   ]
  },
  {
   "cell_type": "code",
   "execution_count": 50,
   "id": "a200f0b5",
   "metadata": {},
   "outputs": [
    {
     "name": "stdout",
     "output_type": "stream",
     "text": [
      "+---+-------------------+--------+---------+\n",
      "|age|          education|duration|euribor3m|\n",
      "+---+-------------------+--------+---------+\n",
      "| 56|           basic.4y|     261|    4.857|\n",
      "| 57|        high.school|     149|    4.857|\n",
      "| 37|        high.school|     226|    4.857|\n",
      "| 40|           basic.6y|     151|    4.857|\n",
      "| 56|        high.school|     307|    4.857|\n",
      "| 45|           basic.9y|     198|    4.857|\n",
      "| 59|professional.course|     139|    4.857|\n",
      "| 41|            unknown|     217|    4.857|\n",
      "| 24|professional.course|     380|    4.857|\n",
      "| 25|        high.school|      50|    4.857|\n",
      "| 41|            unknown|      55|    4.857|\n",
      "| 25|        high.school|     222|    4.857|\n",
      "| 29|        high.school|     137|    4.857|\n",
      "| 57|           basic.4y|     293|    4.857|\n",
      "| 35|           basic.6y|     146|    4.857|\n",
      "| 54|           basic.9y|     174|    4.857|\n",
      "| 35|           basic.6y|     312|    4.857|\n",
      "| 46|           basic.6y|     440|    4.857|\n",
      "| 50|           basic.9y|     353|    4.857|\n",
      "| 39|           basic.9y|     195|    4.857|\n",
      "+---+-------------------+--------+---------+\n",
      "only showing top 20 rows\n",
      "\n"
     ]
    }
   ],
   "source": [
    "ef.show()"
   ]
  },
  {
   "cell_type": "code",
   "execution_count": 51,
   "id": "dfc1efc9",
   "metadata": {},
   "outputs": [
    {
     "name": "stdout",
     "output_type": "stream",
     "text": [
      "+-------+------------------+---------+------------------+------------------+\n",
      "|summary|               age|education|          duration|         euribor3m|\n",
      "+-------+------------------+---------+------------------+------------------+\n",
      "|  count|             41188|    41188|             41188|             41188|\n",
      "|   mean| 40.02406040594348|     null| 258.2850101971448|3.6212908128585366|\n",
      "| stddev|10.421249980934057|     null|259.27924883646455|1.7344474048512557|\n",
      "|    min|                17| basic.4y|                 0|             0.634|\n",
      "|    25%|                32|     null|               102|             1.344|\n",
      "|    50%|                38|     null|               180|             4.857|\n",
      "|    75%|                47|     null|               319|             4.961|\n",
      "|    max|                98|  unknown|              4918|             5.045|\n",
      "+-------+------------------+---------+------------------+------------------+\n",
      "\n"
     ]
    }
   ],
   "source": [
    "ef.summary().show()"
   ]
  },
  {
   "cell_type": "code",
   "execution_count": 52,
   "id": "1e511f8c",
   "metadata": {},
   "outputs": [
    {
     "name": "stdout",
     "output_type": "stream",
     "text": [
      "+-------+------------------+---------+------------------+------------------+\n",
      "|summary|               age|education|          duration|         euribor3m|\n",
      "+-------+------------------+---------+------------------+------------------+\n",
      "|  count|             41188|    41188|             41188|             41188|\n",
      "|   mean| 40.02406040594348|     null| 258.2850101971448|3.6212908128585366|\n",
      "| stddev|10.421249980934057|     null|259.27924883646455|1.7344474048512557|\n",
      "|    min|                17| basic.4y|                 0|             0.634|\n",
      "|    max|                98|  unknown|              4918|             5.045|\n",
      "+-------+------------------+---------+------------------+------------------+\n",
      "\n"
     ]
    }
   ],
   "source": [
    "ef.describe().show()"
   ]
  },
  {
   "cell_type": "code",
   "execution_count": 53,
   "id": "5be851cc",
   "metadata": {},
   "outputs": [
    {
     "data": {
      "text/plain": [
       "['age',\n",
       " 'job',\n",
       " 'marital',\n",
       " 'education',\n",
       " 'default',\n",
       " 'housing',\n",
       " 'loan',\n",
       " 'contact',\n",
       " 'month',\n",
       " 'dayOfWeek',\n",
       " 'duration',\n",
       " 'campaign',\n",
       " 'pdays',\n",
       " 'previous',\n",
       " 'poutcome',\n",
       " 'empVarRate',\n",
       " 'consPriceIdx',\n",
       " 'consConfIdx',\n",
       " 'euribor3m',\n",
       " 'nrEmployed',\n",
       " 'y']"
      ]
     },
     "execution_count": 53,
     "metadata": {},
     "output_type": "execute_result"
    }
   ],
   "source": [
    "df.columns"
   ]
  },
  {
   "cell_type": "code",
   "execution_count": 54,
   "id": "8a7f8a21",
   "metadata": {},
   "outputs": [
    {
     "data": {
      "text/plain": [
       "StructType(List(StructField(age,IntegerType,true),StructField(job,StringType,true),StructField(marital,StringType,true),StructField(education,StringType,true),StructField(default,StringType,true),StructField(housing,StringType,true),StructField(loan,StringType,true),StructField(contact,StringType,true),StructField(month,StringType,true),StructField(dayOfWeek,StringType,true),StructField(duration,IntegerType,true),StructField(campaign,IntegerType,true),StructField(pdays,IntegerType,true),StructField(previous,IntegerType,true),StructField(poutcome,StringType,true),StructField(empVarRate,DoubleType,true),StructField(consPriceIdx,DoubleType,true),StructField(consConfIdx,DoubleType,true),StructField(euribor3m,DoubleType,true),StructField(nrEmployed,DoubleType,true),StructField(y,StringType,true)))"
      ]
     },
     "execution_count": 54,
     "metadata": {},
     "output_type": "execute_result"
    }
   ],
   "source": [
    "df.schema"
   ]
  },
  {
   "cell_type": "code",
   "execution_count": 55,
   "id": "6ec64e74",
   "metadata": {},
   "outputs": [
    {
     "data": {
      "text/plain": [
       "[StructField(age,IntegerType,true),\n",
       " StructField(job,StringType,true),\n",
       " StructField(marital,StringType,true),\n",
       " StructField(education,StringType,true),\n",
       " StructField(default,StringType,true),\n",
       " StructField(housing,StringType,true),\n",
       " StructField(loan,StringType,true),\n",
       " StructField(contact,StringType,true),\n",
       " StructField(month,StringType,true),\n",
       " StructField(dayOfWeek,StringType,true),\n",
       " StructField(duration,IntegerType,true),\n",
       " StructField(campaign,IntegerType,true),\n",
       " StructField(pdays,IntegerType,true),\n",
       " StructField(previous,IntegerType,true),\n",
       " StructField(poutcome,StringType,true),\n",
       " StructField(empVarRate,DoubleType,true),\n",
       " StructField(consPriceIdx,DoubleType,true),\n",
       " StructField(consConfIdx,DoubleType,true),\n",
       " StructField(euribor3m,DoubleType,true),\n",
       " StructField(nrEmployed,DoubleType,true),\n",
       " StructField(y,StringType,true)]"
      ]
     },
     "execution_count": 55,
     "metadata": {},
     "output_type": "execute_result"
    }
   ],
   "source": [
    "df.schema.fields"
   ]
  },
  {
   "cell_type": "code",
   "execution_count": 56,
   "id": "e7d432c0",
   "metadata": {},
   "outputs": [
    {
     "name": "stdout",
     "output_type": "stream",
     "text": [
      "+--------+\n",
      "| marital|\n",
      "+--------+\n",
      "| married|\n",
      "| married|\n",
      "| married|\n",
      "| married|\n",
      "| married|\n",
      "| married|\n",
      "| married|\n",
      "| married|\n",
      "|  single|\n",
      "|  single|\n",
      "| married|\n",
      "|  single|\n",
      "|  single|\n",
      "|divorced|\n",
      "| married|\n",
      "| married|\n",
      "| married|\n",
      "| married|\n",
      "| married|\n",
      "|  single|\n",
      "+--------+\n",
      "only showing top 20 rows\n",
      "\n"
     ]
    }
   ],
   "source": [
    "df.select('marital').show()"
   ]
  },
  {
   "cell_type": "markdown",
   "id": "a5967818",
   "metadata": {},
   "source": [
    "# Tạo Vectorize bằng StringIndexer for marital"
   ]
  },
  {
   "cell_type": "code",
   "execution_count": 62,
   "id": "deecb883",
   "metadata": {},
   "outputs": [],
   "source": [
    "maritalIndexer = feature.StringIndexer().setInputCol('marital').setOutputCol('maritalIndex') # Tạo một object cho Indexer"
   ]
  },
  {
   "cell_type": "code",
   "execution_count": 65,
   "id": "8a5955ae",
   "metadata": {},
   "outputs": [],
   "source": [
    "mModel = maritalIndexer.fit(df) #Để quét trên hết các row"
   ]
  },
  {
   "cell_type": "code",
   "execution_count": 66,
   "id": "c46ea999",
   "metadata": {},
   "outputs": [],
   "source": [
    "ef = mModel.transform(df) # Áp dụng cho df"
   ]
  },
  {
   "cell_type": "code",
   "execution_count": 69,
   "id": "34893ba0",
   "metadata": {},
   "outputs": [
    {
     "name": "stdout",
     "output_type": "stream",
     "text": [
      "+--------+------------+\n",
      "| marital|maritalIndex|\n",
      "+--------+------------+\n",
      "| married|         0.0|\n",
      "| married|         0.0|\n",
      "| married|         0.0|\n",
      "| married|         0.0|\n",
      "| married|         0.0|\n",
      "| married|         0.0|\n",
      "| married|         0.0|\n",
      "| married|         0.0|\n",
      "|  single|         1.0|\n",
      "|  single|         1.0|\n",
      "| married|         0.0|\n",
      "|  single|         1.0|\n",
      "|  single|         1.0|\n",
      "|divorced|         2.0|\n",
      "| married|         0.0|\n",
      "| married|         0.0|\n",
      "| married|         0.0|\n",
      "| married|         0.0|\n",
      "| married|         0.0|\n",
      "|  single|         1.0|\n",
      "+--------+------------+\n",
      "only showing top 20 rows\n",
      "\n"
     ]
    }
   ],
   "source": [
    "ef.select('marital', 'maritalIndex').show()"
   ]
  },
  {
   "cell_type": "code",
   "execution_count": 70,
   "id": "1ee5334f",
   "metadata": {},
   "outputs": [],
   "source": [
    "mEncoder = feature.OneHotEncoder().setInputCol('maritalIndex').setOutputCol('maritalVector')"
   ]
  },
  {
   "cell_type": "code",
   "execution_count": 80,
   "id": "cae468b1",
   "metadata": {},
   "outputs": [],
   "source": [
    "maritalEncoder = mEncoder.fit(ef).transform(ef) # fit trả về object, transform trả về dataframe"
   ]
  },
  {
   "cell_type": "code",
   "execution_count": 82,
   "id": "703ad0af",
   "metadata": {},
   "outputs": [
    {
     "name": "stdout",
     "output_type": "stream",
     "text": [
      "+--------+------------+-------------+\n",
      "| marital|maritalIndex|maritalVector|\n",
      "+--------+------------+-------------+\n",
      "| married|         0.0|(3,[0],[1.0])|\n",
      "| married|         0.0|(3,[0],[1.0])|\n",
      "| married|         0.0|(3,[0],[1.0])|\n",
      "| married|         0.0|(3,[0],[1.0])|\n",
      "| married|         0.0|(3,[0],[1.0])|\n",
      "| married|         0.0|(3,[0],[1.0])|\n",
      "| married|         0.0|(3,[0],[1.0])|\n",
      "| married|         0.0|(3,[0],[1.0])|\n",
      "|  single|         1.0|(3,[1],[1.0])|\n",
      "|  single|         1.0|(3,[1],[1.0])|\n",
      "| married|         0.0|(3,[0],[1.0])|\n",
      "|  single|         1.0|(3,[1],[1.0])|\n",
      "|  single|         1.0|(3,[1],[1.0])|\n",
      "|divorced|         2.0|(3,[2],[1.0])|\n",
      "| married|         0.0|(3,[0],[1.0])|\n",
      "| married|         0.0|(3,[0],[1.0])|\n",
      "| married|         0.0|(3,[0],[1.0])|\n",
      "| married|         0.0|(3,[0],[1.0])|\n",
      "| married|         0.0|(3,[0],[1.0])|\n",
      "|  single|         1.0|(3,[1],[1.0])|\n",
      "| married|         0.0|(3,[0],[1.0])|\n",
      "| married|         0.0|(3,[0],[1.0])|\n",
      "|  single|         1.0|(3,[1],[1.0])|\n",
      "|  single|         1.0|(3,[1],[1.0])|\n",
      "| married|         0.0|(3,[0],[1.0])|\n",
      "| married|         0.0|(3,[0],[1.0])|\n",
      "| married|         0.0|(3,[0],[1.0])|\n",
      "| married|         0.0|(3,[0],[1.0])|\n",
      "|  single|         1.0|(3,[1],[1.0])|\n",
      "| married|         0.0|(3,[0],[1.0])|\n",
      "| married|         0.0|(3,[0],[1.0])|\n",
      "| married|         0.0|(3,[0],[1.0])|\n",
      "| married|         0.0|(3,[0],[1.0])|\n",
      "| married|         0.0|(3,[0],[1.0])|\n",
      "|divorced|         2.0|(3,[2],[1.0])|\n",
      "| married|         0.0|(3,[0],[1.0])|\n",
      "| married|         0.0|(3,[0],[1.0])|\n",
      "| married|         0.0|(3,[0],[1.0])|\n",
      "| married|         0.0|(3,[0],[1.0])|\n",
      "| married|         0.0|(3,[0],[1.0])|\n",
      "| unknown|         3.0|    (3,[],[])|\n",
      "| married|         0.0|(3,[0],[1.0])|\n",
      "|  single|         1.0|(3,[1],[1.0])|\n",
      "| married|         0.0|(3,[0],[1.0])|\n",
      "| married|         0.0|(3,[0],[1.0])|\n",
      "|  single|         1.0|(3,[1],[1.0])|\n",
      "| married|         0.0|(3,[0],[1.0])|\n",
      "| married|         0.0|(3,[0],[1.0])|\n",
      "| married|         0.0|(3,[0],[1.0])|\n",
      "| married|         0.0|(3,[0],[1.0])|\n",
      "+--------+------------+-------------+\n",
      "only showing top 50 rows\n",
      "\n"
     ]
    }
   ],
   "source": [
    "maritalEncoder.select('marital', 'maritalIndex', 'maritalVector').show(50) \n",
    "# Maried: Vector 3 chiều (1, 0, 0); Single: Vector 3 chiều (0, 1, 0); Divorced: Vector 3 chiều (0, 0, 0); Unknown: (0, 0, 0)"
   ]
  },
  {
   "cell_type": "markdown",
   "id": "3f0657c1",
   "metadata": {},
   "source": [
    "# Tạo object vectorize for education"
   ]
  },
  {
   "cell_type": "code",
   "execution_count": 99,
   "id": "0fa5da3b",
   "metadata": {},
   "outputs": [],
   "source": [
    "eduIndexer = feature.StringIndexer().setInputCol('education').setOutputCol('eduIndex')"
   ]
  },
  {
   "cell_type": "code",
   "execution_count": 100,
   "id": "9adca715",
   "metadata": {},
   "outputs": [],
   "source": [
    "eduEncoder = feature.OneHotEncoder().setInputCol('eduIndex').setOutputCol('eduVector')"
   ]
  },
  {
   "cell_type": "markdown",
   "id": "53d40c59",
   "metadata": {},
   "source": [
    "# Tạo object training"
   ]
  },
  {
   "cell_type": "code",
   "execution_count": 130,
   "id": "c8202076",
   "metadata": {},
   "outputs": [],
   "source": [
    "from pyspark.ml.classification import LogisticRegression\n",
    "from pyspark.ml.feature import StringIndexer, OneHotEncoder, VectorAssembler\n",
    "\n",
    "# Assembling all the feature columns into a single feature vector\n",
    "assembler = VectorAssembler(inputCols=[\"maritalVector\", \"eduVector\", \"age\"], outputCol=\"features\")\n",
    "\n",
    "# Logistic Regression classifier\n",
    "classifier = LogisticRegression(featuresCol=\"features\", labelCol=\"label\")\n"
   ]
  },
  {
   "cell_type": "code",
   "execution_count": null,
   "id": "adf94421",
   "metadata": {},
   "outputs": [],
   "source": []
  },
  {
   "cell_type": "code",
   "execution_count": null,
   "id": "3708414d",
   "metadata": {},
   "outputs": [],
   "source": []
  },
  {
   "cell_type": "markdown",
   "id": "70f0aa33",
   "metadata": {},
   "source": [
    "# Tạo vectorize bằng pipeline"
   ]
  },
  {
   "cell_type": "code",
   "execution_count": 101,
   "id": "b21faac3",
   "metadata": {},
   "outputs": [],
   "source": [
    "pipeline = Pipeline(stages=[maritalIndexer, mEncoder, eduIndexer, eduEncoder ])  # Vectorize cho cả marital và education sử dụng pipeline => Thêm object nào thì cần thêm vào pipeline thì sẽ tự động chạy"
   ]
  },
  {
   "cell_type": "code",
   "execution_count": 102,
   "id": "b309ab27",
   "metadata": {},
   "outputs": [],
   "source": [
    "model = pipeline.fit(df)"
   ]
  },
  {
   "cell_type": "code",
   "execution_count": 103,
   "id": "dce195aa",
   "metadata": {},
   "outputs": [],
   "source": [
    "modelEncoder = model.transform(df)"
   ]
  },
  {
   "cell_type": "code",
   "execution_count": 104,
   "id": "e993d3ac",
   "metadata": {},
   "outputs": [
    {
     "name": "stdout",
     "output_type": "stream",
     "text": [
      "+--------+------------+-------------+--------+-------------+\n",
      "| marital|maritalIndex|maritalVector|eduIndex|    eduVector|\n",
      "+--------+------------+-------------+--------+-------------+\n",
      "| married|         0.0|(3,[0],[1.0])|     4.0|(7,[4],[1.0])|\n",
      "| married|         0.0|(3,[0],[1.0])|     1.0|(7,[1],[1.0])|\n",
      "| married|         0.0|(3,[0],[1.0])|     1.0|(7,[1],[1.0])|\n",
      "| married|         0.0|(3,[0],[1.0])|     5.0|(7,[5],[1.0])|\n",
      "| married|         0.0|(3,[0],[1.0])|     1.0|(7,[1],[1.0])|\n",
      "| married|         0.0|(3,[0],[1.0])|     2.0|(7,[2],[1.0])|\n",
      "| married|         0.0|(3,[0],[1.0])|     3.0|(7,[3],[1.0])|\n",
      "| married|         0.0|(3,[0],[1.0])|     6.0|(7,[6],[1.0])|\n",
      "|  single|         1.0|(3,[1],[1.0])|     3.0|(7,[3],[1.0])|\n",
      "|  single|         1.0|(3,[1],[1.0])|     1.0|(7,[1],[1.0])|\n",
      "| married|         0.0|(3,[0],[1.0])|     6.0|(7,[6],[1.0])|\n",
      "|  single|         1.0|(3,[1],[1.0])|     1.0|(7,[1],[1.0])|\n",
      "|  single|         1.0|(3,[1],[1.0])|     1.0|(7,[1],[1.0])|\n",
      "|divorced|         2.0|(3,[2],[1.0])|     4.0|(7,[4],[1.0])|\n",
      "| married|         0.0|(3,[0],[1.0])|     5.0|(7,[5],[1.0])|\n",
      "| married|         0.0|(3,[0],[1.0])|     2.0|(7,[2],[1.0])|\n",
      "| married|         0.0|(3,[0],[1.0])|     5.0|(7,[5],[1.0])|\n",
      "| married|         0.0|(3,[0],[1.0])|     5.0|(7,[5],[1.0])|\n",
      "| married|         0.0|(3,[0],[1.0])|     2.0|(7,[2],[1.0])|\n",
      "|  single|         1.0|(3,[1],[1.0])|     2.0|(7,[2],[1.0])|\n",
      "+--------+------------+-------------+--------+-------------+\n",
      "only showing top 20 rows\n",
      "\n"
     ]
    }
   ],
   "source": [
    "modelEncoder.select('marital', 'maritalIndex', 'maritalVector', 'eduIndex', 'eduVector').show()"
   ]
  },
  {
   "cell_type": "code",
   "execution_count": null,
   "id": "af376728",
   "metadata": {},
   "outputs": [],
   "source": []
  },
  {
   "cell_type": "code",
   "execution_count": 131,
   "id": "7a0185bb",
   "metadata": {},
   "outputs": [],
   "source": [
    "pipeline = Pipeline(stages=[maritalIndexer, mEncoder, eduIndexer, eduEncoder, assembler, classifier])"
   ]
  },
  {
   "cell_type": "code",
   "execution_count": 132,
   "id": "52486b74",
   "metadata": {},
   "outputs": [],
   "source": [
    "model2 = pipeline.fit(df)"
   ]
  },
  {
   "cell_type": "code",
   "execution_count": 133,
   "id": "30cb6ab7",
   "metadata": {},
   "outputs": [],
   "source": [
    "model2 = model2.transform(df)"
   ]
  },
  {
   "cell_type": "code",
   "execution_count": 134,
   "id": "0594bb21",
   "metadata": {},
   "outputs": [
    {
     "data": {
      "text/plain": [
       "['__class__',\n",
       " '__delattr__',\n",
       " '__dict__',\n",
       " '__dir__',\n",
       " '__doc__',\n",
       " '__eq__',\n",
       " '__format__',\n",
       " '__ge__',\n",
       " '__getattr__',\n",
       " '__getattribute__',\n",
       " '__getitem__',\n",
       " '__gt__',\n",
       " '__hash__',\n",
       " '__init__',\n",
       " '__init_subclass__',\n",
       " '__le__',\n",
       " '__lt__',\n",
       " '__module__',\n",
       " '__ne__',\n",
       " '__new__',\n",
       " '__reduce__',\n",
       " '__reduce_ex__',\n",
       " '__repr__',\n",
       " '__setattr__',\n",
       " '__sizeof__',\n",
       " '__str__',\n",
       " '__subclasshook__',\n",
       " '__weakref__',\n",
       " '_collect_as_arrow',\n",
       " '_jcols',\n",
       " '_jdf',\n",
       " '_jmap',\n",
       " '_jseq',\n",
       " '_lazy_rdd',\n",
       " '_repr_html_',\n",
       " '_sc',\n",
       " '_schema',\n",
       " '_sort_cols',\n",
       " '_support_repr_html',\n",
       " '_to_corrected_pandas_type',\n",
       " 'agg',\n",
       " 'alias',\n",
       " 'approxQuantile',\n",
       " 'cache',\n",
       " 'checkpoint',\n",
       " 'coalesce',\n",
       " 'colRegex',\n",
       " 'collect',\n",
       " 'columns',\n",
       " 'corr',\n",
       " 'count',\n",
       " 'cov',\n",
       " 'createGlobalTempView',\n",
       " 'createOrReplaceGlobalTempView',\n",
       " 'createOrReplaceTempView',\n",
       " 'createTempView',\n",
       " 'crossJoin',\n",
       " 'crosstab',\n",
       " 'cube',\n",
       " 'describe',\n",
       " 'distinct',\n",
       " 'drop',\n",
       " 'dropDuplicates',\n",
       " 'drop_duplicates',\n",
       " 'dropna',\n",
       " 'dtypes',\n",
       " 'exceptAll',\n",
       " 'explain',\n",
       " 'fillna',\n",
       " 'filter',\n",
       " 'first',\n",
       " 'foreach',\n",
       " 'foreachPartition',\n",
       " 'freqItems',\n",
       " 'groupBy',\n",
       " 'groupby',\n",
       " 'head',\n",
       " 'hint',\n",
       " 'intersect',\n",
       " 'intersectAll',\n",
       " 'isLocal',\n",
       " 'isStreaming',\n",
       " 'is_cached',\n",
       " 'join',\n",
       " 'limit',\n",
       " 'localCheckpoint',\n",
       " 'mapInPandas',\n",
       " 'na',\n",
       " 'orderBy',\n",
       " 'persist',\n",
       " 'printSchema',\n",
       " 'randomSplit',\n",
       " 'rdd',\n",
       " 'registerTempTable',\n",
       " 'repartition',\n",
       " 'repartitionByRange',\n",
       " 'replace',\n",
       " 'rollup',\n",
       " 'sample',\n",
       " 'sampleBy',\n",
       " 'schema',\n",
       " 'select',\n",
       " 'selectExpr',\n",
       " 'show',\n",
       " 'sort',\n",
       " 'sortWithinPartitions',\n",
       " 'sql_ctx',\n",
       " 'stat',\n",
       " 'storageLevel',\n",
       " 'subtract',\n",
       " 'summary',\n",
       " 'tail',\n",
       " 'take',\n",
       " 'toDF',\n",
       " 'toJSON',\n",
       " 'toLocalIterator',\n",
       " 'toPandas',\n",
       " 'transform',\n",
       " 'union',\n",
       " 'unionAll',\n",
       " 'unionByName',\n",
       " 'unpersist',\n",
       " 'where',\n",
       " 'withColumn',\n",
       " 'withColumnRenamed',\n",
       " 'withWatermark',\n",
       " 'write',\n",
       " 'writeStream']"
      ]
     },
     "execution_count": 134,
     "metadata": {},
     "output_type": "execute_result"
    }
   ],
   "source": [
    "dir(model2)"
   ]
  },
  {
   "cell_type": "code",
   "execution_count": 139,
   "id": "9953ac8b",
   "metadata": {},
   "outputs": [
    {
     "data": {
      "text/plain": [
       "['age',\n",
       " 'job',\n",
       " 'marital',\n",
       " 'education',\n",
       " 'default',\n",
       " 'housing',\n",
       " 'loan',\n",
       " 'contact',\n",
       " 'month',\n",
       " 'dayOfWeek',\n",
       " 'duration',\n",
       " 'campaign',\n",
       " 'pdays',\n",
       " 'previous',\n",
       " 'poutcome',\n",
       " 'empVarRate',\n",
       " 'consPriceIdx',\n",
       " 'consConfIdx',\n",
       " 'euribor3m',\n",
       " 'nrEmployed',\n",
       " 'y',\n",
       " 'label',\n",
       " 'maritalIndex',\n",
       " 'maritalVector',\n",
       " 'eduIndex',\n",
       " 'eduVector',\n",
       " 'features',\n",
       " 'rawPrediction',\n",
       " 'probability',\n",
       " 'prediction']"
      ]
     },
     "execution_count": 139,
     "metadata": {},
     "output_type": "execute_result"
    }
   ],
   "source": [
    "model2.prediction"
   ]
  },
  {
   "cell_type": "code",
   "execution_count": 144,
   "id": "923b4a70",
   "metadata": {},
   "outputs": [
    {
     "data": {
      "text/plain": [
       "False"
      ]
     },
     "execution_count": 144,
     "metadata": {},
     "output_type": "execute_result"
    }
   ],
   "source": [
    "model2.select('prediction') == model2.select('label')"
   ]
  },
  {
   "cell_type": "code",
   "execution_count": null,
   "id": "317af9a4",
   "metadata": {},
   "outputs": [],
   "source": []
  },
  {
   "cell_type": "code",
   "execution_count": null,
   "id": "36177bfc",
   "metadata": {},
   "outputs": [],
   "source": []
  },
  {
   "cell_type": "code",
   "execution_count": null,
   "id": "d20fb7db",
   "metadata": {},
   "outputs": [],
   "source": []
  }
 ],
 "metadata": {
  "kernelspec": {
   "display_name": "Python 3 (ipykernel)",
   "language": "python",
   "name": "python3"
  },
  "language_info": {
   "codemirror_mode": {
    "name": "ipython",
    "version": 3
   },
   "file_extension": ".py",
   "mimetype": "text/x-python",
   "name": "python",
   "nbconvert_exporter": "python",
   "pygments_lexer": "ipython3",
   "version": "3.9.12"
  }
 },
 "nbformat": 4,
 "nbformat_minor": 5
}
